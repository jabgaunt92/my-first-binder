{
 "cells": [
  {
   "cell_type": "markdown",
   "metadata": {},
   "source": [
    "# Spring Semester - Teaching Week 2 w/c 8/2\n",
    "\n",
    "# Introduction to NumPy \n",
    "\n",
    "Learning outcomes:  \n",
    "- Learn about the NumPy package for scientific computation in Python.\n",
    "- Learn more about basic types and functions in NumPy\n",
    "- Learn about arrays in NumPy\n",
    "\n",
    "\n",
    "**How to read**:\n",
    "Browse through and evaluate all 'code cells'. This will give you knowledge about what properties are available and \n",
    "some examples of what you can do with files and functions etc.  If you need more information, please read through the references below. \n",
    "\n",
    "Then do the exercises below and play around and modify or try the different properties I have used here. \n",
    "\n",
    "You are **not** expected to memorise everything here. You are always allowed to look at examples and documentation when you solve programming problems, so the most important is to know what is possible.  \n",
    "\n",
    "\n",
    "## References ##\n",
    "\n",
    "Recommended reading:\n",
    "- Learning Scientific Programming...\" by C. Hill, Chapter 6.1-\n",
    "Other sources: \n",
    "- https://numpy.org/ (the main website - contains all documentations and introductions etc.)\n",
    "- https://cs231n.github.io/python-numpy-tutorial/ (a good tutorial on numpy)\n",
    "\n",
    "## Introduction ##\n",
    "\n",
    "NumPy is a large package containing efficient and accurate algorithms for scientific programming and in particular it is focussed on numerical linear algebra. The algorithms in this library are mostly written in C, C++ or Fortran, which makes them much faster than a \"basic\" Python implementation would be. \n",
    "NumPy is a part of the more general SciPy package for scientific computation which also includes more general methods for special functions etc.\n",
    "\n",
    "You will already be familiar with some of the functionality of numpy that was included in pylab. Recall that pylab consisted of selected functions from numpy and matplotlib (which we will discuss in more detail later).\n",
    "\n",
    "As usual we will only provide a brief overview here. For full and detailed information see the references above (in particular the recommended book). \n",
    "\n",
    "## Usage and Installation ##\n",
    "\n",
    "To use numpy in your code you need to import it before you want to use it. \n",
    "A common practice to make your code look \"neater\" is to write \n",
    "\n",
    "`import numpy as np`\n",
    "\n",
    "This will define `np` as an \"alias\" for numpy in your worksheet, in other words, instead of typing `numpy.<function_name>` you can write `np.<function_name>`. \n",
    "I will adopt this convention in this notebook but it is optional in your own code, you can always just write `import numpy` and call all functions as starting with `numpy`\n",
    "\n",
    "If get a 'ModuleNotFoundError' when you try to import it this meanst that you first need to install it.\n",
    "If you use Anaconda numpy should be installed by default - but something could have gone wrong.\n",
    "To install NumPy see https://numpy.org/install for details or simply do the below:\n",
    "* Anaconda: go to Environments, select the current environment (probably called 'base (root)'), select 'All' packages, search for 'numpy' and install it.\n",
    "* Miniconda:  on the command line write `conda install numpy`\n",
    "* Pip:  on the command line write `pip install numpy` \n",
    "\n",
    "## Content of this notebook\n",
    "\n",
    "1. Arrays and basic datatypes\n",
    "2. Matrices\n",
    "3. Element-wise operations\n",
    "4. Special values\n",
    "5. Magic squares (an Example)\n",
    "6. Advanced array manipulation"
   ]
  },
  {
   "cell_type": "code",
   "execution_count": 2,
   "metadata": {},
   "outputs": [],
   "source": [
    "import numpy as np"
   ]
  },
  {
   "cell_type": "markdown",
   "metadata": {},
   "source": [
    "## Arrays and basic data types \n",
    "\n",
    "The basic datatype in numpy is the `array` object which has type `ndarray` and it has a number of built-in properties, including addition and scalar multiplication (corresponding to vector space properties)."
   ]
  },
  {
   "cell_type": "code",
   "execution_count": 3,
   "metadata": {},
   "outputs": [
    {
     "data": {
      "text/plain": [
       "numpy.ndarray"
      ]
     },
     "execution_count": 3,
     "metadata": {},
     "output_type": "execute_result"
    }
   ],
   "source": [
    "x = np.array([1,2,3])\n",
    "y = np.array([1.0,1,1])\n",
    "z = np.array([1,1.1,3+1j])\n",
    "type(z)"
   ]
  },
  {
   "cell_type": "code",
   "execution_count": 4,
   "metadata": {},
   "outputs": [
    {
     "name": "stdout",
     "output_type": "stream",
     "text": [
      "[2. 3. 4.]\n",
      "[1.+2.j 2.+4.j 3.+6.j]\n"
     ]
    }
   ],
   "source": [
    "# Addition\n",
    "print(x+y)\n",
    "# Multiplication by scalar\n",
    "print( (1+2j)*x)"
   ]
  },
  {
   "cell_type": "markdown",
   "metadata": {},
   "source": [
    "Individual elements in numpy have numerical types which are corresponding to integers, floats and complex numbers etc."
   ]
  },
  {
   "cell_type": "code",
   "execution_count": 5,
   "metadata": {},
   "outputs": [
    {
     "name": "stdout",
     "output_type": "stream",
     "text": [
      "<class 'numpy.int64'>\n",
      "<class 'numpy.float64'>\n",
      "<class 'numpy.complex128'>\n"
     ]
    }
   ],
   "source": [
    "print(type(x[1]))\n",
    "print(type(y[0]))\n",
    "print(type(z[1]))"
   ]
  },
  {
   "cell_type": "markdown",
   "metadata": {},
   "source": [
    "It is important to note that a numpy array object can only contain elements of the same type so in the above example all elements of y are floats and all elements of z are complex numbers.\n",
    "Also, when adding arrays of different types all elements are put into the most general type (i.e. according to the principle \"an integer is a real number which is also a complex number\").\n",
    "For a list of all common numpy datatypes see Table 6.2 in the book by Hill."
   ]
  },
  {
   "cell_type": "code",
   "execution_count": 6,
   "metadata": {},
   "outputs": [
    {
     "data": {
      "text/plain": [
       "numpy.complex128"
      ]
     },
     "execution_count": 6,
     "metadata": {},
     "output_type": "execute_result"
    }
   ],
   "source": [
    "type((x+z)[0])"
   ]
  },
  {
   "cell_type": "markdown",
   "metadata": {},
   "source": [
    "If you need to define a vector with specific datatype you can do it explicitly as"
   ]
  },
  {
   "cell_type": "code",
   "execution_count": 7,
   "metadata": {},
   "outputs": [
    {
     "name": "stdout",
     "output_type": "stream",
     "text": [
      "<class 'numpy.complex128'>\n"
     ]
    }
   ],
   "source": [
    "x = np.array([1,2,3],dtype=np.complex128)\n",
    "print(type(x[0]))"
   ]
  },
  {
   "cell_type": "markdown",
   "metadata": {},
   "source": [
    "## Matrices \n",
    "In addition to vectors, we can also represent matrices as multi-dimensional arrays in numpy.\n",
    "There is also a special matrix class in numpy (which we will see later) but for most purposes arrays are just as good representations of matrices.\n",
    "Matrices (in either form) can be created using input as a list of lists:"
   ]
  },
  {
   "cell_type": "code",
   "execution_count": 10,
   "metadata": {},
   "outputs": [
    {
     "name": "stdout",
     "output_type": "stream",
     "text": [
      "[[1 2]\n",
      " [1 1]]\n",
      "[[2 6]\n",
      " [1 2]]\n"
     ]
    }
   ],
   "source": [
    "A = np.array([[1,2],[1,1]])\n",
    "B = np.array([[1,4],[0,1]])\n",
    "print(A)\n",
    "# We can add matrices\n",
    "print(A+B)"
   ]
  },
  {
   "cell_type": "markdown",
   "metadata": {},
   "source": [
    "Elements of matrices (multi-dimensional arrays) are indexed by using A[m,n] instead of the expected A[m][n]"
   ]
  },
  {
   "cell_type": "code",
   "execution_count": 11,
   "metadata": {},
   "outputs": [
    {
     "name": "stdout",
     "output_type": "stream",
     "text": [
      "1\n",
      "2\n",
      "1\n",
      "1\n"
     ]
    }
   ],
   "source": [
    "print(A[0,0])\n",
    "print(A[0,1])\n",
    "print(A[1,0])\n",
    "print(A[1,1])"
   ]
  },
  {
   "cell_type": "markdown",
   "metadata": {},
   "source": [
    "To get the number of rows and columns you can use the `shape` property:"
   ]
  },
  {
   "cell_type": "code",
   "execution_count": 12,
   "metadata": {},
   "outputs": [
    {
     "data": {
      "text/plain": [
       "(2, 2)"
      ]
     },
     "execution_count": 12,
     "metadata": {},
     "output_type": "execute_result"
    }
   ],
   "source": [
    "A.shape"
   ]
  },
  {
   "cell_type": "markdown",
   "metadata": {},
   "source": [
    "It is possible to create an array of zeros or ones of any 'shape'  (the default type is float but you can specify other types using the 'dtype' keyword argument)."
   ]
  },
  {
   "cell_type": "code",
   "execution_count": 14,
   "metadata": {},
   "outputs": [
    {
     "name": "stdout",
     "output_type": "stream",
     "text": [
      "[[0 0 0]\n",
      " [0 0 0]\n",
      " [0 0 0]]\n",
      "[[1. 1.]\n",
      " [1. 1.]\n",
      " [1. 1.]]\n"
     ]
    }
   ],
   "source": [
    "A = np.zeros((3,3), dtype=np.int64)\n",
    "print(A)\n",
    "B = np.ones((3,2))\n",
    "print(B)"
   ]
  },
  {
   "cell_type": "markdown",
   "metadata": {},
   "source": [
    "It is also possible to create ranges of elements in numpy in a similar way as we have seen before "
   ]
  },
  {
   "cell_type": "code",
   "execution_count": 17,
   "metadata": {},
   "outputs": [
    {
     "data": {
      "text/plain": [
       "array([0, 1, 2, 3, 4, 5, 6, 7, 8, 9])"
      ]
     },
     "execution_count": 17,
     "metadata": {},
     "output_type": "execute_result"
    }
   ],
   "source": [
    "np.arange(0,10)"
   ]
  },
  {
   "cell_type": "markdown",
   "metadata": {},
   "source": [
    "In contrast to the built-in `range` function in Python you can also give floating point arguments and it will produce a range up to the right limit"
   ]
  },
  {
   "cell_type": "code",
   "execution_count": 18,
   "metadata": {},
   "outputs": [
    {
     "data": {
      "text/plain": [
       "array([ 0.5,  1.5,  2.5,  3.5,  4.5,  5.5,  6.5,  7.5,  8.5,  9.5, 10.5,\n",
       "       11.5, 12.5, 13.5, 14.5, 15.5, 16.5, 17.5, 18.5, 19.5])"
      ]
     },
     "execution_count": 18,
     "metadata": {},
     "output_type": "execute_result"
    }
   ],
   "source": [
    "np.arange(0.5,20.2)"
   ]
  },
  {
   "cell_type": "markdown",
   "metadata": {},
   "source": [
    "You can also specify a floating point step size:"
   ]
  },
  {
   "cell_type": "code",
   "execution_count": 19,
   "metadata": {},
   "outputs": [
    {
     "data": {
      "text/plain": [
       "array([0.        , 3.14159265, 6.28318531, 9.42477796])"
      ]
     },
     "execution_count": 19,
     "metadata": {},
     "output_type": "execute_result"
    }
   ],
   "source": [
    "np.arange(0.,10.,np.pi)"
   ]
  },
  {
   "cell_type": "markdown",
   "metadata": {},
   "source": [
    "We also encountered the linspace function which produces an array of equally spaced points. \n",
    "There are two additional parameters that might be useful:\n",
    "- `retstep`  - set to True (default False) to return the stepsize\n",
    "- `endpoint` - set to False to not include the right endpoint (default True)"
   ]
  },
  {
   "cell_type": "code",
   "execution_count": 22,
   "metadata": {},
   "outputs": [
    {
     "data": {
      "text/plain": [
       "(array([ 0.        ,  1.11111111,  2.22222222,  3.33333333,  4.44444444,\n",
       "         5.55555556,  6.66666667,  7.77777778,  8.88888889, 10.        ]),\n",
       " 1.1111111111111112)"
      ]
     },
     "execution_count": 22,
     "metadata": {},
     "output_type": "execute_result"
    }
   ],
   "source": [
    "np.linspace(0,10,10,retstep=True)"
   ]
  },
  {
   "cell_type": "code",
   "execution_count": 21,
   "metadata": {},
   "outputs": [
    {
     "data": {
      "text/plain": [
       "(array([0., 1., 2., 3., 4., 5., 6., 7., 8., 9.]), 1.0)"
      ]
     },
     "execution_count": 21,
     "metadata": {},
     "output_type": "execute_result"
    }
   ],
   "source": [
    "np.linspace(0,10,10,retstep=True,endpoint=False)"
   ]
  },
  {
   "cell_type": "markdown",
   "metadata": {},
   "source": [
    "### Initializing an array or matrix from a function\n",
    "\n",
    "It is possible to define an array directly using a function as follows.\n",
    "assume that we want to create a 3x3 matrix that contains the signs 1 or -1 alternating in rows and columns: "
   ]
  },
  {
   "cell_type": "code",
   "execution_count": 23,
   "metadata": {},
   "outputs": [],
   "source": [
    "def f(i,j):\n",
    "    return (-1)**(i+j)"
   ]
  },
  {
   "cell_type": "code",
   "execution_count": 24,
   "metadata": {},
   "outputs": [
    {
     "data": {
      "text/plain": [
       "array([[ 1., -1.,  1.],\n",
       "       [-1.,  1., -1.],\n",
       "       [ 1., -1.,  1.]])"
      ]
     },
     "execution_count": 24,
     "metadata": {},
     "output_type": "execute_result"
    }
   ],
   "source": [
    "np.fromfunction(f,(3,3))"
   ]
  },
  {
   "cell_type": "markdown",
   "metadata": {},
   "source": [
    "## Element-wise operations\n",
    "\n",
    "The functionality for element-wise functions that we used in pylab earlier are all coming from numpy so they can also be used here. \n",
    "For example"
   ]
  },
  {
   "cell_type": "code",
   "execution_count": null,
   "metadata": {},
   "outputs": [],
   "source": [
    "np.sin(np.pi*np.array([1,2,2.5]))"
   ]
  },
  {
   "cell_type": "markdown",
   "metadata": {},
   "source": [
    "It is also possible to compare arrays element-wise:"
   ]
  },
  {
   "cell_type": "code",
   "execution_count": null,
   "metadata": {},
   "outputs": [],
   "source": [
    "np.array([1,2,2.5]) < np.array([1,2,3])"
   ]
  },
  {
   "cell_type": "code",
   "execution_count": null,
   "metadata": {},
   "outputs": [],
   "source": [
    "np.array([1,2,2.5]) == np.array([1,2,3])"
   ]
  },
  {
   "cell_type": "code",
   "execution_count": null,
   "metadata": {},
   "outputs": [],
   "source": [
    "# If we compare with a scalar then this scalar is made to a vector first:\n",
    "np.array([1,2,3]) > 1"
   ]
  },
  {
   "cell_type": "markdown",
   "metadata": {},
   "source": [
    "### Example \n",
    "As an example let's use numpy arrays and a combination of boolean functions to determine which values between 0 and 100 are congruent to 1 modulo 3 and 2 modulo 5:\n",
    "\n",
    "I will use the range between 0 and 101 so that element n is the number n (recall that Python indexing starts at 0"
   ]
  },
  {
   "cell_type": "code",
   "execution_count": null,
   "metadata": {},
   "outputs": [],
   "source": [
    "np.arange(0,101)"
   ]
  },
  {
   "cell_type": "code",
   "execution_count": null,
   "metadata": {},
   "outputs": [],
   "source": [
    "np.arange(0,101)[37]"
   ]
  },
  {
   "cell_type": "code",
   "execution_count": null,
   "metadata": {},
   "outputs": [],
   "source": [
    "# Array that indicates which values are congruent to 1 modulo 3\n",
    "a=(np.arange(0,101) % 3 == 1) \n",
    "a"
   ]
  },
  {
   "cell_type": "code",
   "execution_count": null,
   "metadata": {},
   "outputs": [],
   "source": [
    "# Array that indicates which values are congruent to 2 modulo 5\n",
    "b=(np.arange(0,101) % 5 == 2)\n",
    "b"
   ]
  },
  {
   "cell_type": "code",
   "execution_count": null,
   "metadata": {},
   "outputs": [],
   "source": [
    "# Array which gives the values congruent to both 1 mod 3 and 2 mod 5\n",
    "c = a & b \n",
    "c"
   ]
  },
  {
   "cell_type": "markdown",
   "metadata": {},
   "source": [
    "Note that we had to use the special \"bitwise\" logical operator `&` to be able to compare the arrays element-wise. \n",
    "The more natural \"a and b\" will **not** work. \n",
    "As an alternative to `&` we can also simply multiply element-wise since True*True=True and True*False=False and False*False=False when True is interpreted as 1 and False as 0."
   ]
  },
  {
   "cell_type": "code",
   "execution_count": null,
   "metadata": {},
   "outputs": [],
   "source": [
    "a & b == a*b"
   ]
  },
  {
   "cell_type": "markdown",
   "metadata": {},
   "source": [
    "We can find out which values are congruent to both 1 mod 3 and 2 mod 5 by finding the nonzero values using the `nonzero` function which returns the indices of all elements that are not zero (this works because False is treated as 0)"
   ]
  },
  {
   "cell_type": "code",
   "execution_count": null,
   "metadata": {},
   "outputs": [],
   "source": [
    "c.nonzero()"
   ]
  },
  {
   "cell_type": "markdown",
   "metadata": {},
   "source": [
    "So the integers $x$ between 1 and 100 which satisfy $x\\equiv 1\\pmod{3}$ and $x\\equiv 2\\pmod{5}$ are precisely \n",
    "7,22,37,52,67,82 and 97.\n",
    "\n",
    "Instead of the nonzero function we could also have produced the matching values using a generator function in Python:"
   ]
  },
  {
   "cell_type": "code",
   "execution_count": null,
   "metadata": {},
   "outputs": [],
   "source": [
    "[x for x in range(101) if c[x]]"
   ]
  },
  {
   "cell_type": "markdown",
   "metadata": {},
   "source": [
    "### Matrix multiplication\n",
    "It is important to know that all elementary operations are by default element-wise, including multiplication, so for instance"
   ]
  },
  {
   "cell_type": "code",
   "execution_count": null,
   "metadata": {},
   "outputs": [],
   "source": [
    "x = np.array([1,2,3])\n",
    "y = np.array([4,5,6])"
   ]
  },
  {
   "cell_type": "code",
   "execution_count": null,
   "metadata": {},
   "outputs": [],
   "source": [
    "# Element-wise multiplication\n",
    "x*y"
   ]
  },
  {
   "cell_type": "code",
   "execution_count": null,
   "metadata": {},
   "outputs": [],
   "source": [
    "# dot-product\n",
    "x.dot(y)"
   ]
  },
  {
   "cell_type": "markdown",
   "metadata": {},
   "source": [
    "This is especially important when it comes to matrices.\n",
    "To multiply two matrices you need to use the `matmul` or `dot` function:"
   ]
  },
  {
   "cell_type": "code",
   "execution_count": null,
   "metadata": {},
   "outputs": [],
   "source": [
    "A = np.array([[1,2],[3,4]])\n",
    "B = np.array([[1,0],[0,1]])\n",
    "# Element-wise multiplication\n",
    "A*B"
   ]
  },
  {
   "cell_type": "code",
   "execution_count": null,
   "metadata": {},
   "outputs": [],
   "source": [
    "# matrix multiplication\n",
    "np.matmul(A,B)"
   ]
  },
  {
   "cell_type": "code",
   "execution_count": null,
   "metadata": {},
   "outputs": [],
   "source": [
    "A.dot(B)"
   ]
  },
  {
   "cell_type": "markdown",
   "metadata": {},
   "source": [
    "Note that the `dot` as a matrix multiplication is precisely the dot product of two vectors since the \"natural\" way to multiply two vectors x and y of length d is to treat x as a row vector (i.e. an 1 x d matrix) and y as a column vector (i.e. a d x 1 matrix) and the resulting matrix product is precisely the 1x1 matrix consisting of the dot (or scalar) product. "
   ]
  },
  {
   "cell_type": "markdown",
   "metadata": {},
   "source": [
    "## Special values\n",
    "\n",
    "NumPy have the special values `nan` (not a number) and `inf` (infinity) (and `-inf` for minus infinity) which are used to denote undefined values like 0/0 and infinities like 1/0 or -1/0.\n",
    "\n",
    "Note that by default numpy will also print out a warning if you try to divide by 0 but this can be configured to be hidden if needed."
   ]
  },
  {
   "cell_type": "code",
   "execution_count": null,
   "metadata": {},
   "outputs": [],
   "source": [
    "np.array([0,1,-1])/0"
   ]
  },
  {
   "cell_type": "markdown",
   "metadata": {},
   "source": [
    "There is also a \"complex\" infinity `inf+infj`:"
   ]
  },
  {
   "cell_type": "code",
   "execution_count": null,
   "metadata": {},
   "outputs": [],
   "source": [
    "np.array([1+1j])/0"
   ]
  },
  {
   "cell_type": "markdown",
   "metadata": {},
   "source": [
    "To test if a value is infinity you can't use a simple `==` or `!=` since infinities are not comparable. There are instead functions `np.isnan` and `np.isinf` and `np.isfinite`"
   ]
  },
  {
   "cell_type": "code",
   "execution_count": null,
   "metadata": {},
   "outputs": [],
   "source": [
    "a=np.array([0,1,-1])/0"
   ]
  },
  {
   "cell_type": "code",
   "execution_count": null,
   "metadata": {},
   "outputs": [],
   "source": [
    "print(f\"{a[0]} is nan: {np.isnan(a[0])}\")\n",
    "print(f\"{a[1]} is nan: {np.isnan(a[1])}\")\n",
    "print(f\"{a[2]} is nan: {np.isnan(a[2])}\")\n",
    "print(f\"{a[0]} is inf: {np.isinf(a[0])}\")\n",
    "print(f\"{a[1]} is inf: {np.isinf(a[1])}\")\n",
    "print(f\"{a[2]} is inf: {np.isinf(a[2])}\")"
   ]
  },
  {
   "cell_type": "markdown",
   "metadata": {},
   "source": [
    "## Magic Squares\n",
    "\n",
    "A magic square is an N x N matrix where each row and column and the main diagonal sum to the same value and where the entries consists of the values $1,2,\\ldots,N^2$ exactly once. (Note that the sum is actually equal to $N(N^2+1)/2$) (see e.g. https://mathworld.wolfram.com/MagicSquare.html.)\n",
    "The following outlines an algorithm to create a magic square for an odd $N$:\n",
    "- Step 1: Start in the middle of the top row and let n=1\n",
    "- Step 2: Insert n in the current grid position\n",
    "- Step 3: If $n=N^2$ then we are done so we stop, else increment $n$ by 1. \n",
    "- Step 4: Move diagonally up and to the right one step, where we \"wrap\" the matrix in the sense that if we try to move to the right of the last column we end up in the first column and if we try to move up from the first row we end up in the last row. If this cell is filled we move vertically down one step instead.\n",
    "- Step 5: Go to Step 2. \n",
    "\n",
    "This algorithm can be implemented using numpy as"
   ]
  },
  {
   "cell_type": "code",
   "execution_count": null,
   "metadata": {},
   "outputs": [],
   "source": [
    "def magic_square(N):\n",
    "    if N % 2 == 0 or N<1:\n",
    "        raise ValueError(\"Input must be an odd positive integer!\")\n",
    "    magic_square = np.zeros((N,N),dtype=int)\n",
    "    # Use i and j to denote the current row and column position\n",
    "    i = 0\n",
    "    j = int((N-1)/2)\n",
    "    n = 1\n",
    "    while n <= N**2:\n",
    "        magic_square[i,j] = n\n",
    "        n += 1\n",
    "        # Move up one step (or to the bottom row)\n",
    "        newi = (i-1) % N\n",
    "        # Move to the right one step (or to the first column)\n",
    "        newj = (j+1) % N\n",
    "        if magic_square[newi,newj] != 0:\n",
    "            # If this matrix element is already set we move vertically down one step\n",
    "            i = i+1 \n",
    "        else:\n",
    "            i,j = newi,newj\n",
    "    return magic_square"
   ]
  },
  {
   "cell_type": "code",
   "execution_count": null,
   "metadata": {},
   "outputs": [],
   "source": [
    "A=magic_square(3)\n",
    "A"
   ]
  },
  {
   "cell_type": "markdown",
   "metadata": {},
   "source": [
    "For such a small matrix it is easy to check by hand that all rows and columns and the diagonal sums to 15. \n",
    "for larger matrices there is an exercise below which asks you to write a function to verify whether or not a given matrix is magic."
   ]
  },
  {
   "cell_type": "markdown",
   "metadata": {},
   "source": [
    "## Advanced array manipulations and indexing\n",
    "\n",
    "### Changing shape of an array\n"
   ]
  },
  {
   "cell_type": "code",
   "execution_count": null,
   "metadata": {},
   "outputs": [],
   "source": [
    "A=np.array([[1,2,3],[4,5,6]])\n",
    "print(A)"
   ]
  },
  {
   "cell_type": "markdown",
   "metadata": {},
   "source": [
    "1. `flatten` can be used to put all rows of a matrix into one vector"
   ]
  },
  {
   "cell_type": "code",
   "execution_count": null,
   "metadata": {},
   "outputs": [],
   "source": [
    "A.flatten()"
   ]
  },
  {
   "cell_type": "markdown",
   "metadata": {},
   "source": [
    "2. `reshape` can be used to convert a matrix from one shape to another:"
   ]
  },
  {
   "cell_type": "code",
   "execution_count": null,
   "metadata": {},
   "outputs": [],
   "source": [
    "A.reshape(3,2) # same as if we had written A = np.array([[1,2],[3,4],[5,6]])"
   ]
  },
  {
   "cell_type": "markdown",
   "metadata": {},
   "source": [
    "3. `transpose` can be used to transpose a matrix:"
   ]
  },
  {
   "cell_type": "code",
   "execution_count": null,
   "metadata": {},
   "outputs": [],
   "source": [
    "A.transpose()"
   ]
  },
  {
   "cell_type": "markdown",
   "metadata": {},
   "source": [
    "4. `hstack`, `vstack`, `dstack` are used to \"stack\" (or join) arrays according to different axes:"
   ]
  },
  {
   "cell_type": "code",
   "execution_count": null,
   "metadata": {},
   "outputs": [],
   "source": [
    "a = np.array([0,0,0,0])\n",
    "b = np.array([1,1,1,1])\n",
    "c = np.array([2,2,2,2])"
   ]
  },
  {
   "cell_type": "code",
   "execution_count": null,
   "metadata": {},
   "outputs": [],
   "source": [
    "np.vstack((a,b,c)) # \"vertically\" - the same as np.array((a,b,c))"
   ]
  },
  {
   "cell_type": "code",
   "execution_count": null,
   "metadata": {},
   "outputs": [],
   "source": [
    "np.hstack((a,b,c)) # 'horizontally\" - the same as np.array(list(a)+list(b)+list(c))"
   ]
  },
  {
   "cell_type": "code",
   "execution_count": null,
   "metadata": {},
   "outputs": [],
   "source": [
    "np.dstack((a,b,c)) # \"in a third direction...\" - the same as np.array(list(zip(a,b,c)))"
   ]
  },
  {
   "cell_type": "code",
   "execution_count": null,
   "metadata": {},
   "outputs": [],
   "source": [
    "np.dsplit(np.dstack((a,b,c)),3)"
   ]
  },
  {
   "cell_type": "markdown",
   "metadata": {},
   "source": [
    "5. The \"inverse\" operation of splitting an array is done by `hsplit` (split in columns), `vsplit` (split with respect to rows) and `dsplit` (split in depth). Note that the splitting must be done in equal parts."
   ]
  },
  {
   "cell_type": "code",
   "execution_count": null,
   "metadata": {},
   "outputs": [],
   "source": [
    "# hsplit works on arrays of dimension 1\n",
    "a = np.arange(10)\n",
    "print(a)\n",
    "print(np.hsplit(a,2))\n",
    "print(np.hsplit(a,5))"
   ]
  },
  {
   "cell_type": "code",
   "execution_count": null,
   "metadata": {},
   "outputs": [],
   "source": [
    "np.hsplit(a,3) # raises an error"
   ]
  },
  {
   "cell_type": "code",
   "execution_count": null,
   "metadata": {},
   "outputs": [],
   "source": [
    "# vsplit works on arays of dimension 2\n",
    "A = np.array([[1,2],[4,5]])\n",
    "print(A)\n",
    "print(np.vsplit(A,2))"
   ]
  },
  {
   "cell_type": "code",
   "execution_count": null,
   "metadata": {},
   "outputs": [],
   "source": [
    "A = np.array([[1,2,3],[4,5,6],[7,8,9],[10,11,12]])\n",
    "print(A)\n",
    "print(np.vsplit(A,2))"
   ]
  },
  {
   "cell_type": "code",
   "execution_count": null,
   "metadata": {},
   "outputs": [],
   "source": [
    "# And dsplit works only on arrays of dimension 3 and higher.\n",
    "# This is not very common to need but as an example we can split the array we stacked earlier\n",
    "a = np.array([0,0,0,0])\n",
    "b = np.array([1,1,1,1])\n",
    "c = np.array([2,2,2,2])\n",
    "print(np.dstack((a,b,c)))\n",
    "np.dsplit(np.dstack((a,b,c)),3)"
   ]
  },
  {
   "cell_type": "markdown",
   "metadata": {},
   "source": [
    "### Adding rows and columns\n",
    "It is easy to see how to add a row to a matrix using `vstack`"
   ]
  },
  {
   "cell_type": "code",
   "execution_count": null,
   "metadata": {},
   "outputs": [],
   "source": [
    "A = np.array([[1,1,1],[2,2,2],[3,3,3]])\n",
    "b = np.array([4,4,4])\n",
    "print(np.vstack((A,b)))"
   ]
  },
  {
   "cell_type": "markdown",
   "metadata": {},
   "source": [
    "To add a column we can similarly use `hstack` but since a single array has the shape of a row vector it can't be added directly:"
   ]
  },
  {
   "cell_type": "code",
   "execution_count": null,
   "metadata": {},
   "outputs": [],
   "source": [
    "c = np.array([1,2,3])"
   ]
  },
  {
   "cell_type": "code",
   "execution_count": null,
   "metadata": {},
   "outputs": [],
   "source": [
    "np.hstack((A,c))"
   ]
  },
  {
   "cell_type": "markdown",
   "metadata": {},
   "source": [
    "We need to first use either `reshape` or `hsplit` to make sure that the array has the correct column shape:"
   ]
  },
  {
   "cell_type": "code",
   "execution_count": null,
   "metadata": {},
   "outputs": [],
   "source": [
    "np.hstack((A,c.reshape(3,1)))"
   ]
  },
  {
   "cell_type": "markdown",
   "metadata": {},
   "source": [
    "### Advanced array indexing \n",
    "\n",
    "Arrays can be indexed in the same way as lists in Python:"
   ]
  },
  {
   "cell_type": "code",
   "execution_count": 25,
   "metadata": {},
   "outputs": [
    {
     "name": "stdout",
     "output_type": "stream",
     "text": [
      "[[0 0 0]\n",
      " [0 0 0]\n",
      " [0 0 0]]\n"
     ]
    }
   ],
   "source": [
    "print(A)"
   ]
  },
  {
   "cell_type": "code",
   "execution_count": 37,
   "metadata": {},
   "outputs": [
    {
     "data": {
      "text/plain": [
       "array([0, 0, 0])"
      ]
     },
     "execution_count": 37,
     "metadata": {},
     "output_type": "execute_result"
    }
   ],
   "source": [
    "A[1,:] # second row"
   ]
  },
  {
   "cell_type": "code",
   "execution_count": 39,
   "metadata": {},
   "outputs": [
    {
     "data": {
      "text/plain": [
       "array([[0, 0],\n",
       "       [0, 0]])"
      ]
     },
     "execution_count": 39,
     "metadata": {},
     "output_type": "execute_result"
    }
   ],
   "source": [
    "A[1:3,1:3] # right lower sub-matrix"
   ]
  },
  {
   "cell_type": "markdown",
   "metadata": {},
   "source": [
    "It is also possible to use more advanced indexing, for instance we can give a list as index:"
   ]
  },
  {
   "cell_type": "code",
   "execution_count": null,
   "metadata": {},
   "outputs": [],
   "source": [
    "a = np.arange(10,100)\n",
    "print(a)"
   ]
  },
  {
   "cell_type": "code",
   "execution_count": null,
   "metadata": {},
   "outputs": [],
   "source": [
    "a[[1,2,8]]"
   ]
  },
  {
   "cell_type": "markdown",
   "metadata": {},
   "source": [
    "Or we can use a list of booleans as indices. Then the resulting array consists of values where the boolean is True"
   ]
  },
  {
   "cell_type": "code",
   "execution_count": null,
   "metadata": {},
   "outputs": [],
   "source": [
    "a = np.arange(0,4)\n",
    "print(a)\n",
    "print(a[[True,False,False,True]])"
   ]
  },
  {
   "cell_type": "markdown",
   "metadata": {},
   "source": [
    "**Example**\n",
    "\n",
    "Take the list of integers from 1 to 100 and set every element which is congruent to 1 mod 3 and 2 mod 5 to zero:"
   ]
  },
  {
   "cell_type": "code",
   "execution_count": null,
   "metadata": {},
   "outputs": [],
   "source": [
    "a = np.arange(1,101)\n",
    "print(a)"
   ]
  },
  {
   "cell_type": "code",
   "execution_count": null,
   "metadata": {},
   "outputs": [],
   "source": [
    "b = (a % 3 == 1) & (a % 5 == 2)\n",
    "print(b)"
   ]
  },
  {
   "cell_type": "code",
   "execution_count": null,
   "metadata": {},
   "outputs": [],
   "source": [
    "a[b]"
   ]
  },
  {
   "cell_type": "code",
   "execution_count": null,
   "metadata": {},
   "outputs": [],
   "source": [
    "a[b]=0 # Set all values to 0 where the indexes matches b\n",
    "print(a)"
   ]
  },
  {
   "cell_type": "code",
   "execution_count": null,
   "metadata": {},
   "outputs": [],
   "source": []
  },
  {
   "cell_type": "markdown",
   "metadata": {},
   "source": [
    "## Exercises ##"
   ]
  },
  {
   "cell_type": "markdown",
   "metadata": {},
   "source": [
    "**Exercise 1**\n",
    "Create a 4x4 matrix $A=(a_{ij})$ where the entries are given by \n",
    "$$a_{ij}=\\sin((2i+1)\\pi/2)\\cos(j\\pi), \\; 1\\le i,j\\le 4$$\n",
    "\n",
    "As usual matrix entries start with $a_{11}$ in top left corner and row and column index increases to the right and down. "
   ]
  },
  {
   "cell_type": "markdown",
   "metadata": {},
   "source": [
    "**Exercise 2**\n",
    "(a). Create the following 4 x 4 matrix, $A$, containing the integers from 1 to 16 using `np.arange` and `np.reshape`\n",
    "$$\n",
    "A=\\left(\\begin{array}{rrrr}\n",
    "1 & 2 & 3 & 4 \\\\\n",
    "5 & 6 & 7 & 8 \\\\\n",
    "9 & 10 & 11 & 12 \\\\\n",
    "13 & 14 & 15 & 16\n",
    "\\end{array}\\right)\n",
    "$$\n",
    "(b). Use indexing to select the submatrix \n",
    "$$\n",
    "\\left(\\begin{array}{rr}\n",
    "7 & 8 \\\\\n",
    "15 & 16\n",
    "\\end{array}\\right)\n",
    "$$"
   ]
  },
  {
   "cell_type": "markdown",
   "metadata": {},
   "source": [
    "**Exercise 3** Write a function `filter_array` that takes an array as input and returns an array consisting of the values from the input array  that have values between 0 and 1 (inclusive). for example `filter_array(np.array([1,-1,0.1,4.]))=[1,0.1]"
   ]
  },
  {
   "cell_type": "code",
   "execution_count": null,
   "metadata": {},
   "outputs": [],
   "source": [
    "def filter_array(a):\n",
    "    # YOUR CODE HERE"
   ]
  },
  {
   "cell_type": "markdown",
   "metadata": {},
   "source": [
    "You can use the following test to make sure that your function returns the correct value for the input np.array([1,-1,0.1,4.]\n",
    "Question: can you explain why I have written the test as `assert_true( all( x == y ) )` instead of simply `assert_equal(x,y)` ?"
   ]
  },
  {
   "cell_type": "code",
   "execution_count": null,
   "metadata": {},
   "outputs": [],
   "source": [
    "from nose.tools import assert_true\n",
    "assert_true( all( filter_array(np.array([1,-1,0.1,4.])) == [1,0.1])) "
   ]
  },
  {
   "cell_type": "markdown",
   "metadata": {},
   "source": [
    "**Exercise 4** Write a function `is_monotone_increasing` that takes an array as input and return True if the array is monotonically increasing and otherwise returns False. \n",
    "Hint: `np.diff`. returns the difference between consecutive elements of a sequence, e.g. `np.diff([1,2,3,4,5])=array([1, 1, 1, 1])`"
   ]
  },
  {
   "cell_type": "code",
   "execution_count": null,
   "metadata": {},
   "outputs": [],
   "source": [
    "def is_monotone_increasing(a):\n",
    "    # YOUR CODE HERE"
   ]
  },
  {
   "cell_type": "markdown",
   "metadata": {},
   "source": [
    "You can use the following test to make sure that your function returns the correct value for the input."
   ]
  },
  {
   "cell_type": "code",
   "execution_count": null,
   "metadata": {},
   "outputs": [],
   "source": [
    "from nose.tools import assert_true,assert_false\n",
    "assert_true(is_monotone_increasing(np.array([1,2,3,4])))\n",
    "assert_true(is_monotone_increasing(np.array([1,2,2,3,4])))\n",
    "assert_false(is_monotone_increasing(np.array([1,3,2,3,4])))                              "
   ]
  },
  {
   "cell_type": "markdown",
   "metadata": {},
   "source": [
    "**Exercise 3.** Write a function using numpy and the `sum` function for arrays (look up the built-in help \"A.sum?\") which checks if a given matrix is a magic square or not.   \n",
    "\n",
    "In this case you can test your solution using the function defined above to create magic squares and compare with some non-magic square matrices.  "
   ]
  },
  {
   "cell_type": "code",
   "execution_count": null,
   "metadata": {},
   "outputs": [],
   "source": [
    "def is_magic_square(A):\n",
    "    r\"\"\"\n",
    "    Check if A is a magic square or not.\n",
    "    \"\"\"\n",
    "    # YOUR CODE HERE "
   ]
  }
 ],
 "metadata": {
  "kernelspec": {
   "display_name": "Python 3",
   "language": "python",
   "name": "python3"
  },
  "language_info": {
   "codemirror_mode": {
    "name": "ipython",
    "version": 3
   },
   "file_extension": ".py",
   "mimetype": "text/x-python",
   "name": "python",
   "nbconvert_exporter": "python",
   "pygments_lexer": "ipython3",
   "version": "3.8.6"
  }
 },
 "nbformat": 4,
 "nbformat_minor": 4
}
